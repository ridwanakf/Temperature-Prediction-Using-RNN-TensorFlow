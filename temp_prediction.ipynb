{
 "cells": [
  {
   "cell_type": "markdown",
   "metadata": {},
   "source": [
    "# Prediksi Suhu Rata-Rata Menggunakan Recurrent Neural Network\n",
    "## Studi Kasus = Cilacap, Jawa Tengah\n",
    "\n",
    "#### Code by : https://www.github.com/ridwanakf"
   ]
  },
  {
   "cell_type": "markdown",
   "metadata": {},
   "source": [
    "## Data\n",
    "\n",
    "** Sumber data: https://dataonline.bmkg.go.id/data_iklim **\n",
    "\n",
    "** Data Iklim Harian Cilacap 300 hari terakhir**"
   ]
  },
  {
   "cell_type": "markdown",
   "metadata": {},
   "source": [
    "** Import library yang dibutuhkan **"
   ]
  },
  {
   "cell_type": "code",
   "execution_count": 1,
   "metadata": {
    "collapsed": true
   },
   "outputs": [],
   "source": [
    "import numpy as np\n",
    "import pandas as pd\n",
    "import tensorflow as tf\n",
    "import matplotlib.pyplot as plt\n",
    "%matplotlib inline"
   ]
  },
  {
   "cell_type": "markdown",
   "metadata": {},
   "source": [
    "** Pakai pandas untuk baca file csv berupa data iklimnya, lalu set index_col='Tanggal' karena itu yang kita pake buat time-series variablenya **"
   ]
  },
  {
   "cell_type": "code",
   "execution_count": 2,
   "metadata": {
    "collapsed": true
   },
   "outputs": [],
   "source": [
    "suhu = pd.read_csv('laporan_iklim_harian_cilacap.csv',index_col='Tanggal')"
   ]
  },
  {
   "cell_type": "markdown",
   "metadata": {},
   "source": [
    "** Cek isi datanya**"
   ]
  },
  {
   "cell_type": "code",
   "execution_count": 3,
   "metadata": {},
   "outputs": [
    {
     "data": {
      "text/html": [
       "<div>\n",
       "<style>\n",
       "    .dataframe thead tr:only-child th {\n",
       "        text-align: right;\n",
       "    }\n",
       "\n",
       "    .dataframe thead th {\n",
       "        text-align: left;\n",
       "    }\n",
       "\n",
       "    .dataframe tbody tr th {\n",
       "        vertical-align: top;\n",
       "    }\n",
       "</style>\n",
       "<table border=\"1\" class=\"dataframe\">\n",
       "  <thead>\n",
       "    <tr style=\"text-align: right;\">\n",
       "      <th></th>\n",
       "      <th>Suhu Minimum (°C)</th>\n",
       "      <th>Suhu Maksimum (°C)</th>\n",
       "      <th>Suhu Rata-rata (°C)</th>\n",
       "      <th>Kelembaban Rata-rata (%)</th>\n",
       "      <th>Curah Hujan (mm)</th>\n",
       "      <th>Lama Penyinaran (jam)</th>\n",
       "      <th>Kecepatan Angin Rata-rata (knot)</th>\n",
       "      <th>Arah Angin Terbanyak (deg)</th>\n",
       "      <th>Kecepatan Angin Terbesar (knot)</th>\n",
       "      <th>Arah Angin Saat Kecepatan Maksimum (deg)</th>\n",
       "    </tr>\n",
       "    <tr>\n",
       "      <th>Tanggal</th>\n",
       "      <th></th>\n",
       "      <th></th>\n",
       "      <th></th>\n",
       "      <th></th>\n",
       "      <th></th>\n",
       "      <th></th>\n",
       "      <th></th>\n",
       "      <th></th>\n",
       "      <th></th>\n",
       "      <th></th>\n",
       "    </tr>\n",
       "  </thead>\n",
       "  <tbody>\n",
       "    <tr>\n",
       "      <th>17/01/2018</th>\n",
       "      <td>0.0</td>\n",
       "      <td>32.2</td>\n",
       "      <td>30.5</td>\n",
       "      <td>66</td>\n",
       "      <td>0.0</td>\n",
       "      <td>0.0</td>\n",
       "      <td>2</td>\n",
       "      <td>N</td>\n",
       "      <td>6</td>\n",
       "      <td>260</td>\n",
       "    </tr>\n",
       "  </tbody>\n",
       "</table>\n",
       "</div>"
      ],
      "text/plain": [
       "            Suhu Minimum (°C)  Suhu Maksimum (°C)  Suhu Rata-rata (°C)  \\\n",
       "Tanggal                                                                  \n",
       "17/01/2018                0.0                32.2                 30.5   \n",
       "\n",
       "            Kelembaban Rata-rata (%)  Curah Hujan (mm)  Lama Penyinaran (jam)  \\\n",
       "Tanggal                                                                         \n",
       "17/01/2018                        66               0.0                    0.0   \n",
       "\n",
       "            Kecepatan Angin Rata-rata (knot) Arah Angin Terbanyak (deg)  \\\n",
       "Tanggal                                                                   \n",
       "17/01/2018                                 2                         N    \n",
       "\n",
       "            Kecepatan Angin Terbesar (knot)  \\\n",
       "Tanggal                                       \n",
       "17/01/2018                                6   \n",
       "\n",
       "            Arah Angin Saat Kecepatan Maksimum (deg)  \n",
       "Tanggal                                               \n",
       "17/01/2018                                       260  "
      ]
     },
     "execution_count": 3,
     "metadata": {},
     "output_type": "execute_result"
    }
   ],
   "source": [
    "suhu.head(1)"
   ]
  },
  {
   "cell_type": "markdown",
   "metadata": {},
   "source": [
    "** Ubah 'Tanggal' supaya jadi time-series DataFrame pandas **"
   ]
  },
  {
   "cell_type": "code",
   "execution_count": 4,
   "metadata": {
    "collapsed": true
   },
   "outputs": [],
   "source": [
    "suhu.index = pd.to_datetime(suhu.index, format='%d/%m/%Y')"
   ]
  },
  {
   "cell_type": "markdown",
   "metadata": {},
   "source": [
    "** Ambil kolom Suhu Rata-Rata saja **"
   ]
  },
  {
   "cell_type": "code",
   "execution_count": 5,
   "metadata": {
    "collapsed": true
   },
   "outputs": [],
   "source": [
    "suhu = suhu.drop(['Curah Hujan (mm)', 'Kelembaban Rata-rata (%)', 'Suhu Minimum (°C)', 'Suhu Maksimum (°C)', 'Lama Penyinaran (jam)', 'Kecepatan Angin Rata-rata (knot)', 'Arah Angin Terbanyak (deg)', 'Kecepatan Angin Terbesar (knot)', 'Arah Angin Saat Kecepatan Maksimum (deg)'], axis=1)"
   ]
  },
  {
   "cell_type": "markdown",
   "metadata": {},
   "source": [
    "** Cek lagi isi datanya **"
   ]
  },
  {
   "cell_type": "code",
   "execution_count": 6,
   "metadata": {},
   "outputs": [
    {
     "data": {
      "text/html": [
       "<div>\n",
       "<style>\n",
       "    .dataframe thead tr:only-child th {\n",
       "        text-align: right;\n",
       "    }\n",
       "\n",
       "    .dataframe thead th {\n",
       "        text-align: left;\n",
       "    }\n",
       "\n",
       "    .dataframe tbody tr th {\n",
       "        vertical-align: top;\n",
       "    }\n",
       "</style>\n",
       "<table border=\"1\" class=\"dataframe\">\n",
       "  <thead>\n",
       "    <tr style=\"text-align: right;\">\n",
       "      <th></th>\n",
       "      <th>Suhu Rata-rata (°C)</th>\n",
       "    </tr>\n",
       "    <tr>\n",
       "      <th>Tanggal</th>\n",
       "      <th></th>\n",
       "    </tr>\n",
       "  </thead>\n",
       "  <tbody>\n",
       "    <tr>\n",
       "      <th>2018-01-17</th>\n",
       "      <td>30.5</td>\n",
       "    </tr>\n",
       "    <tr>\n",
       "      <th>2018-01-18</th>\n",
       "      <td>27.7</td>\n",
       "    </tr>\n",
       "    <tr>\n",
       "      <th>2018-01-19</th>\n",
       "      <td>27.6</td>\n",
       "    </tr>\n",
       "    <tr>\n",
       "      <th>2018-01-20</th>\n",
       "      <td>27.0</td>\n",
       "    </tr>\n",
       "    <tr>\n",
       "      <th>2018-01-21</th>\n",
       "      <td>27.0</td>\n",
       "    </tr>\n",
       "  </tbody>\n",
       "</table>\n",
       "</div>"
      ],
      "text/plain": [
       "            Suhu Rata-rata (°C)\n",
       "Tanggal                        \n",
       "2018-01-17                 30.5\n",
       "2018-01-18                 27.7\n",
       "2018-01-19                 27.6\n",
       "2018-01-20                 27.0\n",
       "2018-01-21                 27.0"
      ]
     },
     "execution_count": 6,
     "metadata": {},
     "output_type": "execute_result"
    }
   ],
   "source": [
    "suhu.head(5)"
   ]
  },
  {
   "cell_type": "markdown",
   "metadata": {},
   "source": [
    "** Coba plot datanya **"
   ]
  },
  {
   "cell_type": "code",
   "execution_count": 7,
   "metadata": {},
   "outputs": [
    {
     "data": {
      "text/plain": [
       "<matplotlib.axes._subplots.AxesSubplot at 0x1eef83672b0>"
      ]
     },
     "execution_count": 7,
     "metadata": {},
     "output_type": "execute_result"
    },
    {
     "data": {
      "image/png": "[encoded data removed]",
      "text/plain": [
       "<matplotlib.figure.Figure at 0x1eef8347a20>"
      ]
     },
     "metadata": {},
     "output_type": "display_data"
    }
   ],
   "source": [
    "suhu.plot()"
   ]
  },
  {
   "cell_type": "markdown",
   "metadata": {},
   "source": [
    "### Train Test Split\n",
    "\n",
    "** Coba prediksi data sebulan kedepan (30 hari) **"
   ]
  },
  {
   "cell_type": "code",
   "execution_count": 8,
   "metadata": {
    "collapsed": true
   },
   "outputs": [],
   "source": [
    "train_set = suhu.head(300-30) #data untuk trainnya dari data ke 1-270"
   ]
  },
  {
   "cell_type": "code",
   "execution_count": 9,
   "metadata": {
    "collapsed": true
   },
   "outputs": [],
   "source": [
    "test_set = suhu.tail(30) #data untuk testnya dari data 271-300"
   ]
  },
  {
   "cell_type": "markdown",
   "metadata": {},
   "source": [
    "### Scaling Datanya\n",
    "\n",
    "** Menggunakan sklearn.preprocessing untuk MinMaxScaler **\n",
    "** fit_transform hanya train_set-nya aja, kalo test_set-nya cukup di transform **"
   ]
  },
  {
   "cell_type": "code",
   "execution_count": 10,
   "metadata": {
    "collapsed": true
   },
   "outputs": [],
   "source": [
    "from sklearn.preprocessing import MinMaxScaler"
   ]
  },
  {
   "cell_type": "code",
   "execution_count": 11,
   "metadata": {
    "collapsed": true
   },
   "outputs": [],
   "source": [
    "scaler = MinMaxScaler()"
   ]
  },
  {
   "cell_type": "code",
   "execution_count": 12,
   "metadata": {
    "collapsed": true
   },
   "outputs": [],
   "source": [
    "train_scaled = scaler.fit_transform(train_set)"
   ]
  },
  {
   "cell_type": "code",
   "execution_count": 13,
   "metadata": {
    "collapsed": true
   },
   "outputs": [],
   "source": [
    "test_scaled = scaler.transform(test_set)"
   ]
  },
  {
   "cell_type": "markdown",
   "metadata": {},
   "source": [
    "## Membuat Fungsi untuk Batch-nya"
   ]
  },
  {
   "cell_type": "code",
   "execution_count": 14,
   "metadata": {
    "collapsed": true
   },
   "outputs": [],
   "source": [
    "def next_batch(training_data,steps):\n",
    "    \n",
    "    # Pilih starting point secara acak\n",
    "    rand_start = np.random.randint(0,len(training_data)-steps) \n",
    "\n",
    "    # Buat batch datanya\n",
    "    y_batch = np.array(training_data[rand_start:rand_start+steps+1]).reshape(1,steps+1)\n",
    "\n",
    "    return y_batch[:, :-1].reshape(-1, steps, 1), y_batch[:, 1:].reshape(-1, steps, 1) "
   ]
  },
  {
   "cell_type": "markdown",
   "metadata": {},
   "source": [
    "## Persiapan Model RNN-nya"
   ]
  },
  {
   "cell_type": "markdown",
   "metadata": {},
   "source": [
    "** Hyperparameters **"
   ]
  },
  {
   "cell_type": "code",
   "execution_count": 15,
   "metadata": {
    "collapsed": true
   },
   "outputs": [],
   "source": [
    "# jumlah fitur, 1 = suhu(t)\n",
    "num_inputs = 1\n",
    "\n",
    "# jumlah step di setiap batch. 365 (hari)\n",
    "num_time_steps = 30\n",
    "\n",
    "# jumlah neuron\n",
    "num_neurons = 100\n",
    "\n",
    "# outputnya, berupa suhu(t+1)\n",
    "num_outputs = 1\n",
    "\n",
    "# learning_rate\n",
    "learning_rate = 0.001\n",
    "\n",
    "# jumlah iterasi\n",
    "num_train_iterations = 10001"
   ]
  },
  {
   "cell_type": "markdown",
   "metadata": {},
   "source": [
    "** Buat placeholder tensorflow X sebagai input, dan y sebagai outputnya**  "
   ]
  },
  {
   "cell_type": "code",
   "execution_count": 16,
   "metadata": {
    "collapsed": true
   },
   "outputs": [],
   "source": [
    "input_layer = tf.placeholder(tf.float32, [None, num_time_steps, num_inputs])\n",
    "output_layer = tf.placeholder(tf.float32, [None, num_time_steps, num_outputs])"
   ]
  },
  {
   "cell_type": "markdown",
   "metadata": {},
   "source": [
    "** Buat layer RNN-nya, menggunakan fungsi dari library tensorflow**"
   ]
  },
  {
   "cell_type": "markdown",
   "metadata": {},
   "source": [
    "** Untuk fungsi aktivasi-nya menggunakan ReLu**"
   ]
  },
  {
   "cell_type": "markdown",
   "metadata": {},
   "source": [
    "** ReLu(x) = max(0, x) **"
   ]
  },
  {
   "cell_type": "code",
   "execution_count": 17,
   "metadata": {
    "collapsed": true
   },
   "outputs": [],
   "source": [
    "cell = tf.contrib.rnn.OutputProjectionWrapper(\n",
    "    tf.contrib.rnn.BasicRNNCell(num_units=num_neurons, activation=tf.nn.relu),\n",
    "    output_size=num_outputs) "
   ]
  },
  {
   "cell_type": "code",
   "execution_count": 18,
   "metadata": {
    "collapsed": true
   },
   "outputs": [],
   "source": [
    "outputs, states = tf.nn.dynamic_rnn(cell, input_layer, dtype=tf.float32)"
   ]
  },
  {
   "cell_type": "markdown",
   "metadata": {},
   "source": [
    "### Fungsi Loss dan Optimizer-nya\n",
    "\n",
    "** Menggunakan Squared Error untuk menghitung lossnya, dan menggunakan GradientDescent sebagai optimizernya **"
   ]
  },
  {
   "cell_type": "code",
   "execution_count": 19,
   "metadata": {
    "collapsed": true
   },
   "outputs": [],
   "source": [
    "loss = tf.square(outputs - output_layer)\n",
    "optimizer = tf.train.GradientDescentOptimizer(learning_rate=learning_rate)\n",
    "train = optimizer.minimize(loss)"
   ]
  },
  {
   "cell_type": "markdown",
   "metadata": {},
   "source": [
    "** Inisial global variable tensorflow **"
   ]
  },
  {
   "cell_type": "code",
   "execution_count": 20,
   "metadata": {
    "collapsed": true
   },
   "outputs": [],
   "source": [
    "init = tf.global_variables_initializer()"
   ]
  },
  {
   "cell_type": "markdown",
   "metadata": {},
   "source": [
    "** Buat instance saver untuk nyimpen model RNN-nya nanti **"
   ]
  },
  {
   "cell_type": "code",
   "execution_count": 21,
   "metadata": {
    "collapsed": true
   },
   "outputs": [],
   "source": [
    "saver = tf.train.Saver()"
   ]
  },
  {
   "cell_type": "markdown",
   "metadata": {},
   "source": [
    "### Session\n",
    "\n",
    "** Jalankan training-nya **"
   ]
  },
  {
   "cell_type": "code",
   "execution_count": 22,
   "metadata": {
    "collapsed": true
   },
   "outputs": [],
   "source": [
    "gpu_options = tf.GPUOptions(per_process_gpu_memory_fraction=0.9)"
   ]
  },
  {
   "cell_type": "code",
   "execution_count": 23,
   "metadata": {},
   "outputs": [
    {
     "name": "stdout",
     "output_type": "stream",
     "text": [
      "iterasi ke - 0 \t\tloss: 0.92267\n",
      "iterasi ke - 100 \t\tloss: 0.0348556\n",
      "iterasi ke - 200 \t\tloss: 0.0168142\n",
      "iterasi ke - 300 \t\tloss: 0.0127463\n",
      "iterasi ke - 400 \t\tloss: 0.00874054\n",
      "iterasi ke - 500 \t\tloss: 0.0278913\n",
      "iterasi ke - 600 \t\tloss: 0.00339981\n",
      "iterasi ke - 700 \t\tloss: 0.00201337\n",
      "iterasi ke - 800 \t\tloss: 0.0011096\n",
      "iterasi ke - 900 \t\tloss: 0.000558855\n",
      "iterasi ke - 1000 \t\tloss: 0.000576086\n",
      "iterasi ke - 1100 \t\tloss: 0.00025227\n",
      "iterasi ke - 1200 \t\tloss: 0.00134632\n",
      "iterasi ke - 1300 \t\tloss: 0.000772998\n",
      "iterasi ke - 1400 \t\tloss: 0.0259706\n",
      "iterasi ke - 1500 \t\tloss: 0.0246879\n",
      "iterasi ke - 1600 \t\tloss: 0.000719336\n",
      "iterasi ke - 1700 \t\tloss: 0.0240221\n",
      "iterasi ke - 1800 \t\tloss: 0.00108613\n",
      "iterasi ke - 1900 \t\tloss: 0.0254568\n",
      "iterasi ke - 2000 \t\tloss: 0.000506147\n",
      "iterasi ke - 2100 \t\tloss: 0.000468329\n",
      "iterasi ke - 2200 \t\tloss: 0.000780766\n",
      "iterasi ke - 2300 \t\tloss: 0.0253733\n",
      "iterasi ke - 2400 \t\tloss: 0.000417079\n",
      "iterasi ke - 2500 \t\tloss: 0.000371154\n",
      "iterasi ke - 2600 \t\tloss: 0.000384003\n",
      "iterasi ke - 2700 \t\tloss: 0.000596474\n",
      "iterasi ke - 2800 \t\tloss: 0.000246026\n",
      "iterasi ke - 2900 \t\tloss: 0.000977793\n",
      "iterasi ke - 3000 \t\tloss: 0.000387749\n",
      "iterasi ke - 3100 \t\tloss: 0.000653526\n",
      "iterasi ke - 3200 \t\tloss: 0.000145651\n",
      "iterasi ke - 3300 \t\tloss: 0.000739897\n",
      "iterasi ke - 3400 \t\tloss: 0.000318579\n",
      "iterasi ke - 3500 \t\tloss: 0.000560863\n",
      "iterasi ke - 3600 \t\tloss: 0.000941521\n",
      "iterasi ke - 3700 \t\tloss: 0.0242484\n",
      "iterasi ke - 3800 \t\tloss: 0.024173\n",
      "iterasi ke - 3900 \t\tloss: 0.000352296\n",
      "iterasi ke - 4000 \t\tloss: 0.000504897\n",
      "iterasi ke - 4100 \t\tloss: 0.000468481\n",
      "iterasi ke - 4200 \t\tloss: 0.000312303\n",
      "iterasi ke - 4300 \t\tloss: 0.0037293\n",
      "iterasi ke - 4400 \t\tloss: 0.000403538\n",
      "iterasi ke - 4500 \t\tloss: 0.000632966\n",
      "iterasi ke - 4600 \t\tloss: 0.000403083\n",
      "iterasi ke - 4700 \t\tloss: 0.000500217\n",
      "iterasi ke - 4800 \t\tloss: 0.000487449\n",
      "iterasi ke - 4900 \t\tloss: 0.000313147\n",
      "iterasi ke - 5000 \t\tloss: 0.000301072\n",
      "iterasi ke - 5100 \t\tloss: 0.0229239\n",
      "iterasi ke - 5200 \t\tloss: 0.00032112\n",
      "iterasi ke - 5300 \t\tloss: 0.00121164\n",
      "iterasi ke - 5400 \t\tloss: 0.0249459\n",
      "iterasi ke - 5500 \t\tloss: 0.000726538\n",
      "iterasi ke - 5600 \t\tloss: 0.000195042\n",
      "iterasi ke - 5700 \t\tloss: 0.00105394\n",
      "iterasi ke - 5800 \t\tloss: 0.000625142\n",
      "iterasi ke - 5900 \t\tloss: 0.00108893\n",
      "iterasi ke - 6000 \t\tloss: 0.023558\n",
      "iterasi ke - 6100 \t\tloss: 0.000971151\n",
      "iterasi ke - 6200 \t\tloss: 0.00038623\n",
      "iterasi ke - 6300 \t\tloss: 0.000587092\n",
      "iterasi ke - 6400 \t\tloss: 0.000336961\n",
      "iterasi ke - 6500 \t\tloss: 0.000531958\n",
      "iterasi ke - 6600 \t\tloss: 0.000671929\n",
      "iterasi ke - 6700 \t\tloss: 0.00046248\n",
      "iterasi ke - 6800 \t\tloss: 0.000210665\n",
      "iterasi ke - 6900 \t\tloss: 0.00082712\n",
      "iterasi ke - 7000 \t\tloss: 0.0006724\n",
      "iterasi ke - 7100 \t\tloss: 0.000169641\n",
      "iterasi ke - 7200 \t\tloss: 0.00037976\n",
      "iterasi ke - 7300 \t\tloss: 0.000181726\n",
      "iterasi ke - 7400 \t\tloss: 0.000430448\n",
      "iterasi ke - 7500 \t\tloss: 0.000679152\n",
      "iterasi ke - 7600 \t\tloss: 0.000645259\n",
      "iterasi ke - 7700 \t\tloss: 0.000802946\n",
      "iterasi ke - 7800 \t\tloss: 0.000357479\n",
      "iterasi ke - 7900 \t\tloss: 0.000399449\n",
      "iterasi ke - 8000 \t\tloss: 0.000367658\n",
      "iterasi ke - 8100 \t\tloss: 0.022523\n",
      "iterasi ke - 8200 \t\tloss: 0.000571166\n",
      "iterasi ke - 8300 \t\tloss: 0.0233356\n",
      "iterasi ke - 8400 \t\tloss: 0.000389826\n",
      "iterasi ke - 8500 \t\tloss: 0.000400711\n",
      "iterasi ke - 8600 \t\tloss: 0.000713808\n",
      "iterasi ke - 8700 \t\tloss: 0.000481484\n",
      "iterasi ke - 8800 \t\tloss: 0.000365406\n",
      "iterasi ke - 8900 \t\tloss: 0.000923611\n",
      "iterasi ke - 9000 \t\tloss: 0.000520721\n",
      "iterasi ke - 9100 \t\tloss: 0.00113062\n",
      "iterasi ke - 9200 \t\tloss: 0.000454676\n",
      "iterasi ke - 9300 \t\tloss: 0.0232306\n",
      "iterasi ke - 9400 \t\tloss: 0.000412967\n",
      "iterasi ke - 9500 \t\tloss: 0.000602231\n",
      "iterasi ke - 9600 \t\tloss: 0.000510078\n",
      "iterasi ke - 9700 \t\tloss: 0.000495901\n",
      "iterasi ke - 9800 \t\tloss: 0.000284744\n",
      "iterasi ke - 9900 \t\tloss: 0.000786135\n",
      "iterasi ke - 10000 \t\tloss: 0.0242927\n"
     ]
    }
   ],
   "source": [
    "with tf.Session(config=tf.ConfigProto(gpu_options=gpu_options)) as sess:\n",
    "    sess.run(init)\n",
    "    \n",
    "    for iteration in range(num_train_iterations):\n",
    "        \n",
    "        X_batch, y_batch = next_batch(train_scaled,num_time_steps)\n",
    "        sess.run(train, feed_dict={input_layer: X_batch, output_layer: y_batch})\n",
    "        \n",
    "        if iteration % 100 == 0:\n",
    "            \n",
    "            error = loss.eval(feed_dict={input_layer: X_batch, output_layer: y_batch})\n",
    "            print(\"iterasi ke -\", iteration, \"\\t\\tloss:\", error)\n",
    "    \n",
    "    # Simpan Modelnya\n",
    "    saver.save(sess, \"./prediksi_suhu_ratarata\")"
   ]
  },
  {
   "cell_type": "markdown",
   "metadata": {},
   "source": [
    "______"
   ]
  },
  {
   "cell_type": "markdown",
   "metadata": {},
   "source": [
    "## Prediksi (Test Data)"
   ]
  },
  {
   "cell_type": "markdown",
   "metadata": {},
   "source": [
    "** Menggunakan test_set (30 hari paling baru) **"
   ]
  },
  {
   "cell_type": "code",
   "execution_count": 24,
   "metadata": {},
   "outputs": [
    {
     "data": {
      "text/html": [
       "<div>\n",
       "<style>\n",
       "    .dataframe thead tr:only-child th {\n",
       "        text-align: right;\n",
       "    }\n",
       "\n",
       "    .dataframe thead th {\n",
       "        text-align: left;\n",
       "    }\n",
       "\n",
       "    .dataframe tbody tr th {\n",
       "        vertical-align: top;\n",
       "    }\n",
       "</style>\n",
       "<table border=\"1\" class=\"dataframe\">\n",
       "  <thead>\n",
       "    <tr style=\"text-align: right;\">\n",
       "      <th></th>\n",
       "      <th>Suhu Rata-rata (°C)</th>\n",
       "    </tr>\n",
       "    <tr>\n",
       "      <th>Tanggal</th>\n",
       "      <th></th>\n",
       "    </tr>\n",
       "  </thead>\n",
       "  <tbody>\n",
       "    <tr>\n",
       "      <th>2018-10-14</th>\n",
       "      <td>27.5</td>\n",
       "    </tr>\n",
       "    <tr>\n",
       "      <th>2018-10-15</th>\n",
       "      <td>27.8</td>\n",
       "    </tr>\n",
       "    <tr>\n",
       "      <th>2018-10-16</th>\n",
       "      <td>27.5</td>\n",
       "    </tr>\n",
       "    <tr>\n",
       "      <th>2018-10-17</th>\n",
       "      <td>27.4</td>\n",
       "    </tr>\n",
       "    <tr>\n",
       "      <th>2018-10-18</th>\n",
       "      <td>27.8</td>\n",
       "    </tr>\n",
       "    <tr>\n",
       "      <th>2018-10-19</th>\n",
       "      <td>27.5</td>\n",
       "    </tr>\n",
       "    <tr>\n",
       "      <th>2018-10-20</th>\n",
       "      <td>27.8</td>\n",
       "    </tr>\n",
       "    <tr>\n",
       "      <th>2018-10-21</th>\n",
       "      <td>28.3</td>\n",
       "    </tr>\n",
       "    <tr>\n",
       "      <th>2018-10-22</th>\n",
       "      <td>27.2</td>\n",
       "    </tr>\n",
       "    <tr>\n",
       "      <th>2018-10-23</th>\n",
       "      <td>27.6</td>\n",
       "    </tr>\n",
       "    <tr>\n",
       "      <th>2018-10-24</th>\n",
       "      <td>28.1</td>\n",
       "    </tr>\n",
       "    <tr>\n",
       "      <th>2018-10-25</th>\n",
       "      <td>27.7</td>\n",
       "    </tr>\n",
       "    <tr>\n",
       "      <th>2018-10-26</th>\n",
       "      <td>27.6</td>\n",
       "    </tr>\n",
       "    <tr>\n",
       "      <th>2018-10-27</th>\n",
       "      <td>26.4</td>\n",
       "    </tr>\n",
       "    <tr>\n",
       "      <th>2018-10-28</th>\n",
       "      <td>27.7</td>\n",
       "    </tr>\n",
       "    <tr>\n",
       "      <th>2018-10-29</th>\n",
       "      <td>27.9</td>\n",
       "    </tr>\n",
       "    <tr>\n",
       "      <th>2018-10-30</th>\n",
       "      <td>28.0</td>\n",
       "    </tr>\n",
       "    <tr>\n",
       "      <th>2018-10-31</th>\n",
       "      <td>27.8</td>\n",
       "    </tr>\n",
       "    <tr>\n",
       "      <th>2018-11-01</th>\n",
       "      <td>28.0</td>\n",
       "    </tr>\n",
       "    <tr>\n",
       "      <th>2018-11-02</th>\n",
       "      <td>27.9</td>\n",
       "    </tr>\n",
       "    <tr>\n",
       "      <th>2018-11-03</th>\n",
       "      <td>27.2</td>\n",
       "    </tr>\n",
       "    <tr>\n",
       "      <th>2018-11-04</th>\n",
       "      <td>27.8</td>\n",
       "    </tr>\n",
       "    <tr>\n",
       "      <th>2018-11-05</th>\n",
       "      <td>27.2</td>\n",
       "    </tr>\n",
       "    <tr>\n",
       "      <th>2018-11-06</th>\n",
       "      <td>26.6</td>\n",
       "    </tr>\n",
       "    <tr>\n",
       "      <th>2018-11-07</th>\n",
       "      <td>25.8</td>\n",
       "    </tr>\n",
       "    <tr>\n",
       "      <th>2018-11-08</th>\n",
       "      <td>26.0</td>\n",
       "    </tr>\n",
       "    <tr>\n",
       "      <th>2018-11-09</th>\n",
       "      <td>26.7</td>\n",
       "    </tr>\n",
       "    <tr>\n",
       "      <th>2018-11-10</th>\n",
       "      <td>27.3</td>\n",
       "    </tr>\n",
       "    <tr>\n",
       "      <th>2018-11-11</th>\n",
       "      <td>26.8</td>\n",
       "    </tr>\n",
       "    <tr>\n",
       "      <th>2018-11-12</th>\n",
       "      <td>26.8</td>\n",
       "    </tr>\n",
       "  </tbody>\n",
       "</table>\n",
       "</div>"
      ],
      "text/plain": [
       "            Suhu Rata-rata (°C)\n",
       "Tanggal                        \n",
       "2018-10-14                 27.5\n",
       "2018-10-15                 27.8\n",
       "2018-10-16                 27.5\n",
       "2018-10-17                 27.4\n",
       "2018-10-18                 27.8\n",
       "2018-10-19                 27.5\n",
       "2018-10-20                 27.8\n",
       "2018-10-21                 28.3\n",
       "2018-10-22                 27.2\n",
       "2018-10-23                 27.6\n",
       "2018-10-24                 28.1\n",
       "2018-10-25                 27.7\n",
       "2018-10-26                 27.6\n",
       "2018-10-27                 26.4\n",
       "2018-10-28                 27.7\n",
       "2018-10-29                 27.9\n",
       "2018-10-30                 28.0\n",
       "2018-10-31                 27.8\n",
       "2018-11-01                 28.0\n",
       "2018-11-02                 27.9\n",
       "2018-11-03                 27.2\n",
       "2018-11-04                 27.8\n",
       "2018-11-05                 27.2\n",
       "2018-11-06                 26.6\n",
       "2018-11-07                 25.8\n",
       "2018-11-08                 26.0\n",
       "2018-11-09                 26.7\n",
       "2018-11-10                 27.3\n",
       "2018-11-11                 26.8\n",
       "2018-11-12                 26.8"
      ]
     },
     "execution_count": 24,
     "metadata": {},
     "output_type": "execute_result"
    }
   ],
   "source": [
    "test_set"
   ]
  },
  {
   "cell_type": "markdown",
   "metadata": {},
   "source": [
    "# Generate Datanya"
   ]
  },
  {
   "cell_type": "code",
   "execution_count": 25,
   "metadata": {},
   "outputs": [
    {
     "name": "stdout",
     "output_type": "stream",
     "text": [
      "INFO:tensorflow:Restoring parameters from ./prediksi_suhu_ratarata\n"
     ]
    }
   ],
   "source": [
    "with tf.Session() as sess:\n",
    "    \n",
    "    # restore model yang udah disimpen pas training tadi\n",
    "    saver.restore(sess, \"./prediksi_suhu_ratarata\")\n",
    "\n",
    "    # Bikin array yang isinya data 30 hari terakhir\n",
    "    # untuk diprediksi\n",
    "    train_seed = list(train_scaled[-30:])\n",
    "    \n",
    "    for iteration in range(30):\n",
    "        X_batch = np.array(train_seed[-num_time_steps:]).reshape(1, num_time_steps, 1)\n",
    "        y_pred = sess.run(outputs, feed_dict={input_layer: X_batch})\n",
    "        train_seed.append(y_pred[0, -1, 0])"
   ]
  },
  {
   "cell_type": "markdown",
   "metadata": {},
   "source": [
    "** Show the result of the predictions. **"
   ]
  },
  {
   "cell_type": "code",
   "execution_count": 26,
   "metadata": {},
   "outputs": [
    {
     "data": {
      "text/plain": [
       "[array([ 0.8557377]),\n",
       " array([ 0.84590164]),\n",
       " array([ 0.83278689]),\n",
       " array([ 0.88196721]),\n",
       " array([ 0.88852459]),\n",
       " array([ 0.87540984]),\n",
       " array([ 0.87868852]),\n",
       " array([ 0.8852459]),\n",
       " array([ 0.85245902]),\n",
       " array([ 0.8557377]),\n",
       " array([ 0.8852459]),\n",
       " array([ 0.90163934]),\n",
       " array([ 0.88196721]),\n",
       " array([ 0.87213115]),\n",
       " array([ 0.83606557]),\n",
       " array([ 0.85901639]),\n",
       " array([ 0.90819672]),\n",
       " array([ 0.89180328]),\n",
       " array([ 0.90819672]),\n",
       " array([ 0.89180328]),\n",
       " array([ 0.88852459]),\n",
       " array([ 0.83278689]),\n",
       " array([ 0.87868852]),\n",
       " array([ 0.88196721]),\n",
       " array([ 0.86557377]),\n",
       " array([ 0.89180328]),\n",
       " array([ 0.8852459]),\n",
       " array([ 0.89180328]),\n",
       " array([ 0.89836066]),\n",
       " array([ 0.89836066]),\n",
       " 0.88860726,\n",
       " 0.88572466,\n",
       " 0.88483965,\n",
       " 0.88484335,\n",
       " 0.88486183,\n",
       " 0.88480413,\n",
       " 0.88477671,\n",
       " 0.88473928,\n",
       " 0.88460112,\n",
       " 0.88458002,\n",
       " 0.88464355,\n",
       " 0.88464916,\n",
       " 0.88454342,\n",
       " 0.88443422,\n",
       " 0.88430476,\n",
       " 0.88435781,\n",
       " 0.88446057,\n",
       " 0.88440442,\n",
       " 0.8843652,\n",
       " 0.88424611,\n",
       " 0.88413107,\n",
       " 0.88396192,\n",
       " 0.88401544,\n",
       " 0.88399971,\n",
       " 0.88394725,\n",
       " 0.88396049,\n",
       " 0.88391912,\n",
       " 0.88389027,\n",
       " 0.88385272,\n",
       " 0.88378954]"
      ]
     },
     "execution_count": 26,
     "metadata": {},
     "output_type": "execute_result"
    }
   ],
   "source": [
    "train_seed"
   ]
  },
  {
   "cell_type": "markdown",
   "metadata": {},
   "source": [
    "** Pakai invers_transform untuk membalikkan nilai yang tadinya sudah di scale **"
   ]
  },
  {
   "cell_type": "code",
   "execution_count": 27,
   "metadata": {
    "collapsed": true
   },
   "outputs": [],
   "source": [
    "results = scaler.inverse_transform(np.array(train_seed[:30]).reshape(num_time_steps,1))"
   ]
  },
  {
   "cell_type": "markdown",
   "metadata": {},
   "source": [
    "** Bikin kolom baru bernama 'Prediksi' untuk membandingkan dengan data aslinya **"
   ]
  },
  {
   "cell_type": "code",
   "execution_count": 28,
   "metadata": {},
   "outputs": [
    {
     "name": "stderr",
     "output_type": "stream",
     "text": [
      "C:\\Program Files (x86)\\Microsoft Visual Studio\\Shared\\Anaconda3_64\\envs\\tfdeeplearning\\lib\\site-packages\\ipykernel_launcher.py:1: SettingWithCopyWarning: \n",
      "A value is trying to be set on a copy of a slice from a DataFrame.\n",
      "Try using .loc[row_indexer,col_indexer] = value instead\n",
      "\n",
      "See the caveats in the documentation: http://pandas.pydata.org/pandas-docs/stable/indexing.html#indexing-view-versus-copy\n",
      "  \"\"\"Entry point for launching an IPython kernel.\n"
     ]
    }
   ],
   "source": [
    "test_set['Prediksi'] = results"
   ]
  },
  {
   "cell_type": "markdown",
   "metadata": {},
   "source": [
    "** lihat test_set nya **"
   ]
  },
  {
   "cell_type": "code",
   "execution_count": 29,
   "metadata": {},
   "outputs": [
    {
     "data": {
      "text/html": [
       "<div>\n",
       "<style>\n",
       "    .dataframe thead tr:only-child th {\n",
       "        text-align: right;\n",
       "    }\n",
       "\n",
       "    .dataframe thead th {\n",
       "        text-align: left;\n",
       "    }\n",
       "\n",
       "    .dataframe tbody tr th {\n",
       "        vertical-align: top;\n",
       "    }\n",
       "</style>\n",
       "<table border=\"1\" class=\"dataframe\">\n",
       "  <thead>\n",
       "    <tr style=\"text-align: right;\">\n",
       "      <th></th>\n",
       "      <th>Suhu Rata-rata (°C)</th>\n",
       "      <th>Prediksi</th>\n",
       "    </tr>\n",
       "    <tr>\n",
       "      <th>Tanggal</th>\n",
       "      <th></th>\n",
       "      <th></th>\n",
       "    </tr>\n",
       "  </thead>\n",
       "  <tbody>\n",
       "    <tr>\n",
       "      <th>2018-10-14</th>\n",
       "      <td>27.5</td>\n",
       "      <td>26.1</td>\n",
       "    </tr>\n",
       "    <tr>\n",
       "      <th>2018-10-15</th>\n",
       "      <td>27.8</td>\n",
       "      <td>25.8</td>\n",
       "    </tr>\n",
       "    <tr>\n",
       "      <th>2018-10-16</th>\n",
       "      <td>27.5</td>\n",
       "      <td>25.4</td>\n",
       "    </tr>\n",
       "    <tr>\n",
       "      <th>2018-10-17</th>\n",
       "      <td>27.4</td>\n",
       "      <td>26.9</td>\n",
       "    </tr>\n",
       "    <tr>\n",
       "      <th>2018-10-18</th>\n",
       "      <td>27.8</td>\n",
       "      <td>27.1</td>\n",
       "    </tr>\n",
       "    <tr>\n",
       "      <th>2018-10-19</th>\n",
       "      <td>27.5</td>\n",
       "      <td>26.7</td>\n",
       "    </tr>\n",
       "    <tr>\n",
       "      <th>2018-10-20</th>\n",
       "      <td>27.8</td>\n",
       "      <td>26.8</td>\n",
       "    </tr>\n",
       "    <tr>\n",
       "      <th>2018-10-21</th>\n",
       "      <td>28.3</td>\n",
       "      <td>27.0</td>\n",
       "    </tr>\n",
       "    <tr>\n",
       "      <th>2018-10-22</th>\n",
       "      <td>27.2</td>\n",
       "      <td>26.0</td>\n",
       "    </tr>\n",
       "    <tr>\n",
       "      <th>2018-10-23</th>\n",
       "      <td>27.6</td>\n",
       "      <td>26.1</td>\n",
       "    </tr>\n",
       "    <tr>\n",
       "      <th>2018-10-24</th>\n",
       "      <td>28.1</td>\n",
       "      <td>27.0</td>\n",
       "    </tr>\n",
       "    <tr>\n",
       "      <th>2018-10-25</th>\n",
       "      <td>27.7</td>\n",
       "      <td>27.5</td>\n",
       "    </tr>\n",
       "    <tr>\n",
       "      <th>2018-10-26</th>\n",
       "      <td>27.6</td>\n",
       "      <td>26.9</td>\n",
       "    </tr>\n",
       "    <tr>\n",
       "      <th>2018-10-27</th>\n",
       "      <td>26.4</td>\n",
       "      <td>26.6</td>\n",
       "    </tr>\n",
       "    <tr>\n",
       "      <th>2018-10-28</th>\n",
       "      <td>27.7</td>\n",
       "      <td>25.5</td>\n",
       "    </tr>\n",
       "    <tr>\n",
       "      <th>2018-10-29</th>\n",
       "      <td>27.9</td>\n",
       "      <td>26.2</td>\n",
       "    </tr>\n",
       "    <tr>\n",
       "      <th>2018-10-30</th>\n",
       "      <td>28.0</td>\n",
       "      <td>27.7</td>\n",
       "    </tr>\n",
       "    <tr>\n",
       "      <th>2018-10-31</th>\n",
       "      <td>27.8</td>\n",
       "      <td>27.2</td>\n",
       "    </tr>\n",
       "    <tr>\n",
       "      <th>2018-11-01</th>\n",
       "      <td>28.0</td>\n",
       "      <td>27.7</td>\n",
       "    </tr>\n",
       "    <tr>\n",
       "      <th>2018-11-02</th>\n",
       "      <td>27.9</td>\n",
       "      <td>27.2</td>\n",
       "    </tr>\n",
       "    <tr>\n",
       "      <th>2018-11-03</th>\n",
       "      <td>27.2</td>\n",
       "      <td>27.1</td>\n",
       "    </tr>\n",
       "    <tr>\n",
       "      <th>2018-11-04</th>\n",
       "      <td>27.8</td>\n",
       "      <td>25.4</td>\n",
       "    </tr>\n",
       "    <tr>\n",
       "      <th>2018-11-05</th>\n",
       "      <td>27.2</td>\n",
       "      <td>26.8</td>\n",
       "    </tr>\n",
       "    <tr>\n",
       "      <th>2018-11-06</th>\n",
       "      <td>26.6</td>\n",
       "      <td>26.9</td>\n",
       "    </tr>\n",
       "    <tr>\n",
       "      <th>2018-11-07</th>\n",
       "      <td>25.8</td>\n",
       "      <td>26.4</td>\n",
       "    </tr>\n",
       "    <tr>\n",
       "      <th>2018-11-08</th>\n",
       "      <td>26.0</td>\n",
       "      <td>27.2</td>\n",
       "    </tr>\n",
       "    <tr>\n",
       "      <th>2018-11-09</th>\n",
       "      <td>26.7</td>\n",
       "      <td>27.0</td>\n",
       "    </tr>\n",
       "    <tr>\n",
       "      <th>2018-11-10</th>\n",
       "      <td>27.3</td>\n",
       "      <td>27.2</td>\n",
       "    </tr>\n",
       "    <tr>\n",
       "      <th>2018-11-11</th>\n",
       "      <td>26.8</td>\n",
       "      <td>27.4</td>\n",
       "    </tr>\n",
       "    <tr>\n",
       "      <th>2018-11-12</th>\n",
       "      <td>26.8</td>\n",
       "      <td>27.4</td>\n",
       "    </tr>\n",
       "  </tbody>\n",
       "</table>\n",
       "</div>"
      ],
      "text/plain": [
       "            Suhu Rata-rata (°C)  Prediksi\n",
       "Tanggal                                  \n",
       "2018-10-14                 27.5      26.1\n",
       "2018-10-15                 27.8      25.8\n",
       "2018-10-16                 27.5      25.4\n",
       "2018-10-17                 27.4      26.9\n",
       "2018-10-18                 27.8      27.1\n",
       "2018-10-19                 27.5      26.7\n",
       "2018-10-20                 27.8      26.8\n",
       "2018-10-21                 28.3      27.0\n",
       "2018-10-22                 27.2      26.0\n",
       "2018-10-23                 27.6      26.1\n",
       "2018-10-24                 28.1      27.0\n",
       "2018-10-25                 27.7      27.5\n",
       "2018-10-26                 27.6      26.9\n",
       "2018-10-27                 26.4      26.6\n",
       "2018-10-28                 27.7      25.5\n",
       "2018-10-29                 27.9      26.2\n",
       "2018-10-30                 28.0      27.7\n",
       "2018-10-31                 27.8      27.2\n",
       "2018-11-01                 28.0      27.7\n",
       "2018-11-02                 27.9      27.2\n",
       "2018-11-03                 27.2      27.1\n",
       "2018-11-04                 27.8      25.4\n",
       "2018-11-05                 27.2      26.8\n",
       "2018-11-06                 26.6      26.9\n",
       "2018-11-07                 25.8      26.4\n",
       "2018-11-08                 26.0      27.2\n",
       "2018-11-09                 26.7      27.0\n",
       "2018-11-10                 27.3      27.2\n",
       "2018-11-11                 26.8      27.4\n",
       "2018-11-12                 26.8      27.4"
      ]
     },
     "execution_count": 29,
     "metadata": {},
     "output_type": "execute_result"
    }
   ],
   "source": [
    "test_set"
   ]
  },
  {
   "cell_type": "markdown",
   "metadata": {},
   "source": [
    "** Plot kolomnya untuk membandingkan **"
   ]
  },
  {
   "cell_type": "code",
   "execution_count": 30,
   "metadata": {},
   "outputs": [
    {
     "data": {
      "text/plain": [
       "<matplotlib.axes._subplots.AxesSubplot at 0x1eefb065ef0>"
      ]
     },
     "execution_count": 30,
     "metadata": {},
     "output_type": "execute_result"
    },
    {
     "data": {
      "image/png": "[encoded data removed]",
      "text/plain": [
       "<matplotlib.figure.Figure at 0x1eeefe7ff60>"
      ]
     },
     "metadata": {},
     "output_type": "display_data"
    }
   ],
   "source": [
    "test_set.plot()"
   ]
  },
  {
   "cell_type": "code",
   "execution_count": null,
   "metadata": {
    "collapsed": true
   },
   "outputs": [],
   "source": []
  }
 ],
 "metadata": {
  "kernelspec": {
   "display_name": "Python 3",
   "language": "python",
   "name": "python3"
  },
  "language_info": {
   "codemirror_mode": {
    "name": "ipython",
    "version": 3
   },
   "file_extension": ".py",
   "mimetype": "text/x-python",
   "name": "python",
   "nbconvert_exporter": "python",
   "pygments_lexer": "ipython3",
   "version": "3.5.4"
  }
 },
 "nbformat": 4,
 "nbformat_minor": 2
}
